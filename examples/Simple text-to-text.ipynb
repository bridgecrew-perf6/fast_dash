{
 "cells": [
  {
   "cell_type": "code",
   "execution_count": 1,
   "id": "6852aa23-2039-41e4-92b5-6ae244d963f8",
   "metadata": {},
   "outputs": [],
   "source": [
    "from fast_dash.App import App\n",
    "from fast_dash.Components import TextInput, TextOutput"
   ]
  },
  {
   "cell_type": "code",
   "execution_count": 2,
   "id": "33cb7e02-e462-429b-8812-bda46f7e8292",
   "metadata": {},
   "outputs": [],
   "source": [
    "def callback_fn(input_text):\n",
    "    return input_text"
   ]
  },
  {
   "cell_type": "code",
   "execution_count": 3,
   "id": "d6f79224-5f67-4714-ad1f-919c68299565",
   "metadata": {},
   "outputs": [],
   "source": [
    "app = App(callback_fn=callback_fn, \n",
    "          inputs=TextInput(), \n",
    "          outputs=TextOutput(),\n",
    "          title='Fancy App Title',\n",
    "         theme='ZEPHYR',\n",
    "         linkedin_url='https://linkedin.com/in/dkedar7',\n",
    "         twitter_url='https://twitter.com/dkedar7',\n",
    "         subheader='This app outputs the same text that you type in the output box.',\n",
    "         title_image_path='https://raw.githubusercontent.com/dkedar7/fast_dash/main/docs/assets/favicon.jpg')"
   ]
  },
  {
   "cell_type": "code",
   "execution_count": 4,
   "id": "9d954cb9-031a-4bba-a1c8-ad51d1959965",
   "metadata": {},
   "outputs": [
    {
     "name": "stdout",
     "output_type": "stream",
     "text": [
      " * Serving Flask app 'fast_dash.App' (lazy loading)\n",
      " * Environment: production\n",
      "\u001b[31m   WARNING: This is a development server. Do not use it in a production deployment.\u001b[0m\n",
      "\u001b[2m   Use a production WSGI server instead.\u001b[0m\n",
      " * Debug mode: off\n"
     ]
    },
    {
     "name": "stderr",
     "output_type": "stream",
     "text": [
      " * Running on http://127.0.0.1:8080/ (Press CTRL+C to quit)\n",
      "127.0.0.1 - - [26/Feb/2022 16:52:12] \"GET / HTTP/1.1\" 200 -\n",
      "127.0.0.1 - - [26/Feb/2022 16:52:13] \"GET /_dash-layout HTTP/1.1\" 200 -\n",
      "127.0.0.1 - - [26/Feb/2022 16:52:13] \"GET /_dash-dependencies HTTP/1.1\" 200 -\n",
      "127.0.0.1 - - [26/Feb/2022 16:52:13] \"POST /_dash-update-component HTTP/1.1\" 200 -\n",
      "127.0.0.1 - - [26/Feb/2022 16:52:13] \"GET /_favicon.ico?v=2.2.0 HTTP/1.1\" 200 -\n",
      "127.0.0.1 - - [26/Feb/2022 16:52:16] \"GET / HTTP/1.1\" 200 -\n",
      "127.0.0.1 - - [26/Feb/2022 16:52:16] \"GET /_dash-layout HTTP/1.1\" 200 -\n",
      "127.0.0.1 - - [26/Feb/2022 16:52:16] \"GET /_dash-dependencies HTTP/1.1\" 200 -\n",
      "127.0.0.1 - - [26/Feb/2022 16:52:16] \"POST /_dash-update-component HTTP/1.1\" 200 -\n",
      "127.0.0.1 - - [26/Feb/2022 16:52:16] \"GET /_favicon.ico?v=2.2.0 HTTP/1.1\" 200 -\n",
      "127.0.0.1 - - [26/Feb/2022 16:52:22] \"GET / HTTP/1.1\" 200 -\n",
      "127.0.0.1 - - [26/Feb/2022 16:52:22] \"GET /_dash-layout HTTP/1.1\" 200 -\n",
      "127.0.0.1 - - [26/Feb/2022 16:52:22] \"GET /_dash-dependencies HTTP/1.1\" 200 -\n",
      "127.0.0.1 - - [26/Feb/2022 16:52:22] \"POST /_dash-update-component HTTP/1.1\" 200 -\n"
     ]
    }
   ],
   "source": [
    "app.run()"
   ]
  },
  {
   "cell_type": "code",
   "execution_count": null,
   "id": "8eb41a95-d766-4adf-a832-67b91622b99f",
   "metadata": {},
   "outputs": [],
   "source": []
  }
 ],
 "metadata": {
  "kernelspec": {
   "display_name": "fastdash_examples",
   "language": "python",
   "name": "fastdash_examples"
  },
  "language_info": {
   "codemirror_mode": {
    "name": "ipython",
    "version": 3
   },
   "file_extension": ".py",
   "mimetype": "text/x-python",
   "name": "python",
   "nbconvert_exporter": "python",
   "pygments_lexer": "ipython3",
   "version": "3.9.7"
  }
 },
 "nbformat": 4,
 "nbformat_minor": 5
}
