{
 "cells": [
  {
   "cell_type": "code",
   "execution_count": 1,
   "id": "6852aa23-2039-41e4-92b5-6ae244d963f8",
   "metadata": {},
   "outputs": [],
   "source": [
    "from fast_dash.App import App\n",
    "from fast_dash.Components import TextInput, TextOutput"
   ]
  },
  {
   "cell_type": "code",
   "execution_count": 2,
   "id": "33cb7e02-e462-429b-8812-bda46f7e8292",
   "metadata": {},
   "outputs": [],
   "source": [
    "def callback_fn(input_text):\n",
    "    return input_text"
   ]
  },
  {
   "cell_type": "code",
   "execution_count": 3,
   "id": "d6f79224-5f67-4714-ad1f-919c68299565",
   "metadata": {},
   "outputs": [],
   "source": [
    "app = App(callback_fn=callback_fn, inputs=[TextInput()], outputs=[TextOutput()], title='My app')"
   ]
  },
  {
   "cell_type": "code",
   "execution_count": null,
   "id": "9d954cb9-031a-4bba-a1c8-ad51d1959965",
   "metadata": {},
   "outputs": [
    {
     "name": "stdout",
     "output_type": "stream",
     "text": [
      " * Serving Flask app 'fast_dash.App' (lazy loading)\n",
      " * Environment: production\n",
      "\u001b[31m   WARNING: This is a development server. Do not use it in a production deployment.\u001b[0m\n",
      "\u001b[2m   Use a production WSGI server instead.\u001b[0m\n",
      " * Debug mode: off\n"
     ]
    },
    {
     "name": "stderr",
     "output_type": "stream",
     "text": [
      " * Running on http://127.0.0.1:8080/ (Press CTRL+C to quit)\n",
      "127.0.0.1 - - [22/Feb/2022 23:16:14] \"GET / HTTP/1.1\" 200 -\n",
      "127.0.0.1 - - [22/Feb/2022 23:16:14] \"GET /_dash-layout HTTP/1.1\" 200 -\n",
      "127.0.0.1 - - [22/Feb/2022 23:16:14] \"GET /_dash-dependencies HTTP/1.1\" 200 -\n",
      "127.0.0.1 - - [22/Feb/2022 23:16:14] \"POST /_dash-update-component HTTP/1.1\" 200 -\n",
      "127.0.0.1 - - [22/Feb/2022 23:16:16] \"POST /_dash-update-component HTTP/1.1\" 200 -\n",
      "127.0.0.1 - - [22/Feb/2022 23:16:16] \"POST /_dash-update-component HTTP/1.1\" 200 -\n",
      "127.0.0.1 - - [22/Feb/2022 23:16:17] \"POST /_dash-update-component HTTP/1.1\" 200 -\n",
      "127.0.0.1 - - [22/Feb/2022 23:16:17] \"POST /_dash-update-component HTTP/1.1\" 200 -\n",
      "127.0.0.1 - - [22/Feb/2022 23:16:17] \"POST /_dash-update-component HTTP/1.1\" 200 -\n",
      "127.0.0.1 - - [22/Feb/2022 23:16:17] \"POST /_dash-update-component HTTP/1.1\" 200 -\n",
      "127.0.0.1 - - [22/Feb/2022 23:16:17] \"POST /_dash-update-component HTTP/1.1\" 200 -\n",
      "127.0.0.1 - - [22/Feb/2022 23:16:17] \"POST /_dash-update-component HTTP/1.1\" 200 -\n",
      "127.0.0.1 - - [22/Feb/2022 23:16:17] \"POST /_dash-update-component HTTP/1.1\" 200 -\n",
      "127.0.0.1 - - [22/Feb/2022 23:16:19] \"POST /_dash-update-component HTTP/1.1\" 200 -\n",
      "127.0.0.1 - - [22/Feb/2022 23:16:21] \"POST /_dash-update-component HTTP/1.1\" 200 -\n",
      "127.0.0.1 - - [22/Feb/2022 23:18:48] \"POST /_dash-update-component HTTP/1.1\" 200 -\n",
      "127.0.0.1 - - [22/Feb/2022 23:18:51] \"POST /_dash-update-component HTTP/1.1\" 200 -\n",
      "127.0.0.1 - - [22/Feb/2022 23:19:10] \"POST /_dash-update-component HTTP/1.1\" 200 -\n",
      "127.0.0.1 - - [22/Feb/2022 23:19:10] \"POST /_dash-update-component HTTP/1.1\" 200 -\n",
      "127.0.0.1 - - [22/Feb/2022 23:19:10] \"POST /_dash-update-component HTTP/1.1\" 200 -\n",
      "127.0.0.1 - - [22/Feb/2022 23:19:10] \"POST /_dash-update-component HTTP/1.1\" 200 -\n",
      "127.0.0.1 - - [22/Feb/2022 23:19:10] \"POST /_dash-update-component HTTP/1.1\" 200 -\n",
      "127.0.0.1 - - [22/Feb/2022 23:19:10] \"POST /_dash-update-component HTTP/1.1\" 200 -\n",
      "127.0.0.1 - - [22/Feb/2022 23:19:10] \"POST /_dash-update-component HTTP/1.1\" 200 -\n",
      "127.0.0.1 - - [22/Feb/2022 23:19:11] \"POST /_dash-update-component HTTP/1.1\" 200 -\n",
      "127.0.0.1 - - [22/Feb/2022 23:19:11] \"POST /_dash-update-component HTTP/1.1\" 200 -\n",
      "127.0.0.1 - - [22/Feb/2022 23:19:12] \"POST /_dash-update-component HTTP/1.1\" 200 -\n",
      "127.0.0.1 - - [22/Feb/2022 23:19:14] \"POST /_dash-update-component HTTP/1.1\" 200 -\n"
     ]
    }
   ],
   "source": [
    "app.run()"
   ]
  },
  {
   "cell_type": "code",
   "execution_count": null,
   "id": "3768de83-d53b-4fbf-ab24-7febc81fc257",
   "metadata": {},
   "outputs": [],
   "source": [
    "App??"
   ]
  },
  {
   "cell_type": "code",
   "execution_count": null,
   "id": "16d40c61-a661-45f3-9587-836c3938aef6",
   "metadata": {},
   "outputs": [],
   "source": []
  }
 ],
 "metadata": {
  "kernelspec": {
   "display_name": "fastdash_examples",
   "language": "python",
   "name": "fastdash_examples"
  },
  "language_info": {
   "codemirror_mode": {
    "name": "ipython",
    "version": 3
   },
   "file_extension": ".py",
   "mimetype": "text/x-python",
   "name": "python",
   "nbconvert_exporter": "python",
   "pygments_lexer": "ipython3",
   "version": "3.9.7"
  }
 },
 "nbformat": 4,
 "nbformat_minor": 5
}
